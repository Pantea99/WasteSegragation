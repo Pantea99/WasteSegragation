version https://git-lfs.github.com/spec/v1
oid sha256:0d741d87f34a660d2536f647fb901bea1ca8c8e79ecb426cc5f164212e12312d
size 53465177
